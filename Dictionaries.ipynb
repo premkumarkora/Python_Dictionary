{
  "nbformat": 4,
  "nbformat_minor": 0,
  "metadata": {
    "colab": {
      "provenance": [],
      "collapsed_sections": [],
      "authorship_tag": "ABX9TyM/pHbuAfdU2qhYP/h79Yti"
    },
    "kernelspec": {
      "name": "python3",
      "display_name": "Python 3"
    },
    "language_info": {
      "name": "python"
    }
  },
  "cells": [
    {
      "cell_type": "code",
      "execution_count": null,
      "metadata": {
        "colab": {
          "base_uri": "https://localhost:8080/"
        },
        "id": "shvCJ9b3rw4y",
        "outputId": "a6b8388b-94e9-4922-f71a-8bbdb2754128"
      },
      "outputs": [
        {
          "output_type": "execute_result",
          "data": {
            "text/plain": [
              "['__class__',\n",
              " '__contains__',\n",
              " '__delattr__',\n",
              " '__delitem__',\n",
              " '__dir__',\n",
              " '__doc__',\n",
              " '__eq__',\n",
              " '__format__',\n",
              " '__ge__',\n",
              " '__getattribute__',\n",
              " '__getitem__',\n",
              " '__gt__',\n",
              " '__hash__',\n",
              " '__init__',\n",
              " '__init_subclass__',\n",
              " '__iter__',\n",
              " '__le__',\n",
              " '__len__',\n",
              " '__lt__',\n",
              " '__ne__',\n",
              " '__new__',\n",
              " '__reduce__',\n",
              " '__reduce_ex__',\n",
              " '__repr__',\n",
              " '__setattr__',\n",
              " '__setitem__',\n",
              " '__sizeof__',\n",
              " '__str__',\n",
              " '__subclasshook__',\n",
              " 'clear',\n",
              " 'copy',\n",
              " 'fromkeys',\n",
              " 'get',\n",
              " 'items',\n",
              " 'keys',\n",
              " 'pop',\n",
              " 'popitem',\n",
              " 'setdefault',\n",
              " 'update',\n",
              " 'values']"
            ]
          },
          "metadata": {},
          "execution_count": 1
        }
      ],
      "source": [
        "dir(dict)"
      ]
    },
    {
      "cell_type": "markdown",
      "source": [
        "# Creating Python Dictionary\n",
        "Creating a dictionary is as simple as placing items inside curly braces {} separated by commas.\n",
        "\n",
        "An item has a key and a corresponding value that is expressed as a pair (key: value).\n",
        "\n",
        "While the values can be of any data type and can repeat, keys must be of immutable type (string, number or tuple with immutable elements) and must be unique."
      ],
      "metadata": {
        "id": "Z3Jf2vkJlYKv"
      }
    },
    {
      "cell_type": "code",
      "source": [
        "# empty dictionary\n",
        "my_dict = {}\n",
        "\n",
        "# dictionary with integer keys\n",
        "my_dict = {1: 'apple', 2: 'ball'}\n",
        "\n",
        "print(my_dict)\n",
        "\n",
        "# dictionary with mixed keys\n",
        "my_dict = {'name': 'John', 1: [2, 4, 3]}\n",
        "print(my_dict)\n",
        "# using dict()\n",
        "my_dict = dict({1:'apple', 2:'ball'})\n",
        "print(my_dict)\n",
        "# from sequence having each item as a pair\n",
        "my_dict = dict([(1,'apple'), (2,'ball')])\n",
        "print(\"watch this \", my_dict)"
      ],
      "metadata": {
        "colab": {
          "base_uri": "https://localhost:8080/"
        },
        "id": "htmvgKPLlXRF",
        "outputId": "34b5e23c-1867-44d0-8328-1242f2192b2e"
      },
      "execution_count": null,
      "outputs": [
        {
          "output_type": "stream",
          "name": "stdout",
          "text": [
            "{1: 'apple', 2: 'ball'}\n",
            "{'name': 'John', 1: [2, 4, 3]}\n",
            "{1: 'apple', 2: 'ball'}\n",
            "watch this  {1: 'apple', 2: 'ball'}\n"
          ]
        }
      ]
    },
    {
      "cell_type": "markdown",
      "source": [
        "# Accessing Elements from Dictionary\n",
        "While indexing is used with other data types to access values, a dictionary uses keys. Keys can be used either inside square brackets [] or with the get() method.\n",
        "\n",
        "If we use the square brackets [], KeyError is raised in case a key is not found in the dictionary. On the other hand, the get() method returns None if the key is not found."
      ],
      "metadata": {
        "id": "3ylSBs6Emv_B"
      }
    },
    {
      "cell_type": "code",
      "source": [
        "# get vs [] for retrieving elements\n",
        "my_dict = {'name': 'Jack', 'age': 26}\n",
        "\n",
        "# Output: Jack\n",
        "print(my_dict['name'])\n",
        "\n",
        "# Output: 26\n",
        "print(my_dict.get('age'))\n",
        "\n",
        "# Trying to access keys which doesn't exist throws error\n",
        "# Output None\n",
        "print(my_dict.get('address'))\n",
        "\n",
        "# KeyError\n",
        "print(my_dict['address'])"
      ],
      "metadata": {
        "colab": {
          "base_uri": "https://localhost:8080/",
          "height": 252
        },
        "id": "aFxAnbBkmvDT",
        "outputId": "50e67630-f7d9-433d-e5f9-4470bf04f1f2"
      },
      "execution_count": null,
      "outputs": [
        {
          "output_type": "stream",
          "name": "stdout",
          "text": [
            "Jack\n",
            "26\n",
            "None\n"
          ]
        },
        {
          "output_type": "error",
          "ename": "KeyError",
          "evalue": "ignored",
          "traceback": [
            "\u001b[0;31m---------------------------------------------------------------------------\u001b[0m",
            "\u001b[0;31mKeyError\u001b[0m                                  Traceback (most recent call last)",
            "\u001b[0;32m<ipython-input-4-2ec6dc01caba>\u001b[0m in \u001b[0;36m<module>\u001b[0;34m\u001b[0m\n\u001b[1;32m     13\u001b[0m \u001b[0;34m\u001b[0m\u001b[0m\n\u001b[1;32m     14\u001b[0m \u001b[0;31m# KeyError\u001b[0m\u001b[0;34m\u001b[0m\u001b[0;34m\u001b[0m\u001b[0;34m\u001b[0m\u001b[0m\n\u001b[0;32m---> 15\u001b[0;31m \u001b[0mprint\u001b[0m\u001b[0;34m(\u001b[0m\u001b[0mmy_dict\u001b[0m\u001b[0;34m[\u001b[0m\u001b[0;34m'address'\u001b[0m\u001b[0;34m]\u001b[0m\u001b[0;34m)\u001b[0m\u001b[0;34m\u001b[0m\u001b[0;34m\u001b[0m\u001b[0m\n\u001b[0m",
            "\u001b[0;31mKeyError\u001b[0m: 'address'"
          ]
        }
      ]
    },
    {
      "cell_type": "markdown",
      "source": [
        "# Changing and Adding Dictionary elements -- mutable\n",
        "Dictionaries are mutable. We can add new items or change the value of existing items using an assignment operator.\n",
        "\n",
        "If the key is already present, then the existing value gets updated. In case the key is not present, a new (key: value) pair is added to the dictionary."
      ],
      "metadata": {
        "id": "ILC1Kb9dnCTB"
      }
    },
    {
      "cell_type": "code",
      "source": [
        "# Changing and adding Dictionary Elements\n",
        "my_dict = {'name': 'Jack', 'age': 26}\n",
        "\n",
        "# update value\n",
        "my_dict['age'] = 27\n",
        "\n",
        "#Output: {'age': 27, 'name': 'Jack'}\n",
        "print(my_dict)\n",
        "\n",
        "# add item\n",
        "my_dict[\"address\"] = 'Downtown'\n",
        "\n",
        "# Output: {'address': 'Downtown', 'age': 27, 'name': 'Jack'}\n",
        "print(my_dict)"
      ],
      "metadata": {
        "colab": {
          "base_uri": "https://localhost:8080/"
        },
        "id": "jq_pPuG9nB5A",
        "outputId": "ad0539a2-3995-485d-ebed-e2b3ddfcb4b1"
      },
      "execution_count": null,
      "outputs": [
        {
          "output_type": "stream",
          "name": "stdout",
          "text": [
            "{'name': 'Jack', 'age': 27}\n",
            "{'name': 'Jack', 'age': 27, 'address': 'Downtown'}\n"
          ]
        }
      ]
    },
    {
      "cell_type": "markdown",
      "source": [
        "# Removing elements from Dictionary\n",
        "We can remove a particular item in a dictionary by using the pop() method. This method removes an item with the provided key and returns the value.\n",
        "\n",
        "The popitem() method can be used to remove and return an arbitrary (key, value) item pair from the dictionary. All the items can be removed at once, using the clear() method.\n",
        "\n",
        "We can also use the del keyword to remove individual items or the entire dictionary itself."
      ],
      "metadata": {
        "id": "gz79AgEgn0l5"
      }
    },
    {
      "cell_type": "code",
      "source": [
        "# Removing elements from a dictionary\n",
        "\n",
        "# create a dictionary\n",
        "squares = {1: 1, 2: 4, 3: 9, 4: 16, 5: 25}\n",
        "\n",
        "# remove a particular item, returns its value\n",
        "# Output: 16\n",
        "print(squares.pop(4))\n",
        "\n",
        "# Output: {1: 1, 2: 4, 3: 9, 5: 25}\n",
        "print(squares)\n",
        "\n",
        "# remove an arbitrary item, return (key,value)\n",
        "# Output: (5, 25)\n",
        "print(squares.popitem())\n",
        "\n",
        "# Output: {1: 1, 2: 4, 3: 9}\n",
        "print(squares)\n",
        "\n",
        "# remove all items\n",
        "squares.clear()\n",
        "\n",
        "# Output: {}\n",
        "print(squares)\n",
        "\n",
        "# delete the dictionary itself\n",
        "del squares\n",
        "\n",
        "# Throws Error\n",
        "print(squares)"
      ],
      "metadata": {
        "colab": {
          "base_uri": "https://localhost:8080/",
          "height": 287
        },
        "id": "FB1ahEhHnz-u",
        "outputId": "044a6212-2e52-4b5b-d9f8-3c633a670ae7"
      },
      "execution_count": null,
      "outputs": [
        {
          "output_type": "stream",
          "name": "stdout",
          "text": [
            "16\n",
            "{1: 1, 2: 4, 3: 9, 5: 25}\n",
            "(5, 25)\n",
            "{1: 1, 2: 4, 3: 9}\n",
            "{}\n"
          ]
        },
        {
          "output_type": "error",
          "ename": "NameError",
          "evalue": "ignored",
          "traceback": [
            "\u001b[0;31m---------------------------------------------------------------------------\u001b[0m",
            "\u001b[0;31mNameError\u001b[0m                                 Traceback (most recent call last)",
            "\u001b[0;32m<ipython-input-8-d119a0a5b684>\u001b[0m in \u001b[0;36m<module>\u001b[0;34m\u001b[0m\n\u001b[1;32m     28\u001b[0m \u001b[0;34m\u001b[0m\u001b[0m\n\u001b[1;32m     29\u001b[0m \u001b[0;31m# Throws Error\u001b[0m\u001b[0;34m\u001b[0m\u001b[0;34m\u001b[0m\u001b[0;34m\u001b[0m\u001b[0m\n\u001b[0;32m---> 30\u001b[0;31m \u001b[0mprint\u001b[0m\u001b[0;34m(\u001b[0m\u001b[0msquares\u001b[0m\u001b[0;34m)\u001b[0m\u001b[0;34m\u001b[0m\u001b[0;34m\u001b[0m\u001b[0m\n\u001b[0m",
            "\u001b[0;31mNameError\u001b[0m: name 'squares' is not defined"
          ]
        }
      ]
    },
    {
      "cell_type": "markdown",
      "source": [
        "# clear() \n",
        "The clear() method removes all items from the dictionary.\n",
        "The clear() method doesn't take any parameters.\n",
        "The clear() method doesn't return any value.\n",
        "The method removes every item and returns an empty dictionary {}."
      ],
      "metadata": {
        "id": "ph9DF6xzo3Z5"
      }
    },
    {
      "cell_type": "code",
      "source": [
        "# dictionary\n",
        "numbers = {1: \"one\", 2: \"two\"}\n",
        "\n",
        "# removes all the items from the dictionary\n",
        "numbers.clear()\n",
        "\n",
        "print(numbers)\n",
        "\n",
        "# Output: {}"
      ],
      "metadata": {
        "colab": {
          "base_uri": "https://localhost:8080/"
        },
        "id": "rXRuTkP0o23Y",
        "outputId": "6ace2c4a-8282-43cf-8516-4955121e461d"
      },
      "execution_count": null,
      "outputs": [
        {
          "output_type": "stream",
          "name": "stdout",
          "text": [
            "{}\n"
          ]
        }
      ]
    },
    {
      "cell_type": "markdown",
      "source": [
        "# Dictionary copy()\n",
        "copy() method returns a copy (shallow copy) of the dictionary.\n",
        "The copy() method doesn't take any arguments.\n",
        "This method returns a shallow copy of the dictionary. It doesn't modify the original dictionary."
      ],
      "metadata": {
        "id": "hwHmE__bybnZ"
      }
    },
    {
      "cell_type": "code",
      "source": [
        "original_marks = {'Physics':67, 'Maths':87}\n",
        "\n",
        "copied_marks = original_marks.copy()\n",
        "\n",
        "\n",
        "print('Original Marks:', original_marks)\n",
        "print('Copied Marks:', copied_marks)\n",
        "\n",
        "# Output: Original Marks: {'Physics': 67, 'Maths': 87}\n",
        "#         Copied Marks: {'Physics': 67, 'Maths': 87}"
      ],
      "metadata": {
        "colab": {
          "base_uri": "https://localhost:8080/"
        },
        "id": "OlRiMPMwya7e",
        "outputId": "a0cf3dca-0a95-4ad5-801d-cb333754abcc"
      },
      "execution_count": null,
      "outputs": [
        {
          "output_type": "stream",
          "name": "stdout",
          "text": [
            "Original Marks: {'Physics': 67, 'Maths': 87}\n",
            "Copied Marks: {'Physics': 67, 'Maths': 87}\n"
          ]
        }
      ]
    },
    {
      "cell_type": "code",
      "source": [
        "original = {1:'one', 2:'two'}\n",
        "new = original.copy()\n",
        "\n",
        "\n",
        "# removing all elements from the list\n",
        "new.clear()\n",
        "\n",
        "print('new: ', new)\n",
        "print('original: ', original)"
      ],
      "metadata": {
        "colab": {
          "base_uri": "https://localhost:8080/"
        },
        "id": "WVbtETEVzNkV",
        "outputId": "e51d485b-f703-4448-8a7e-8541518b01cb"
      },
      "execution_count": null,
      "outputs": [
        {
          "output_type": "stream",
          "name": "stdout",
          "text": [
            "new:  {}\n",
            "original:  {1: 'one', 2: 'two'}\n"
          ]
        }
      ]
    },
    {
      "cell_type": "markdown",
      "source": [
        "# Dictionary copy() Method Vs = Operator\n",
        "When the copy() method is used, a new dictionary is created which is filled with a copy of the references from the original dictionary.\n",
        "When the = operator is used, a new reference to the original dictionary is created."
      ],
      "metadata": {
        "id": "RNbShEx0y1Zo"
      }
    },
    {
      "cell_type": "code",
      "source": [
        "original = {1:'one', 2:'two'}\n",
        "new = original\n",
        "\n",
        "\n",
        "# removing all elements from the list\n",
        "new.clear()\n",
        "\n",
        "print('new: ', new)\n",
        "print('original: ', original)"
      ],
      "metadata": {
        "colab": {
          "base_uri": "https://localhost:8080/"
        },
        "id": "yBkYp2MCy04_",
        "outputId": "c24a8b2d-f00c-455a-f234-5963f821b98a"
      },
      "execution_count": null,
      "outputs": [
        {
          "output_type": "stream",
          "name": "stdout",
          "text": [
            "new:  {}\n",
            "original:  {}\n"
          ]
        }
      ]
    },
    {
      "cell_type": "markdown",
      "source": [
        "# Dictionary fromkeys()\n",
        "The fromkeys() method creates a dictionary from the given sequence of keys and values.\n",
        "The syntax of the fromkeys() method is: \n",
        "dict.fromkeys(alphabets,number)\n",
        "fromkeys() Parameters\n",
        "\n",
        "\n",
        "---\n",
        "\n",
        "\n",
        "The fromkeys() method can take two parameters:\n",
        "\n",
        "**alphabets** - are the keys that can be any iterables like string, set, list, etc.\n",
        "**numbers (Optional)** - are the values that can be of any type or any iterables like string, set, list, etc.\n",
        "\n",
        "The fromkeys() method returns:\n",
        "a new dictionary with the given sequence of keys and values"
      ],
      "metadata": {
        "id": "u5Atdl3AzukQ"
      }
    },
    {
      "cell_type": "code",
      "source": [
        "# keys for the dictionary\n",
        "alphabets = {'a', 'b', 'c'}\n",
        "\n",
        "# value for the dictionary\n",
        "number = 1\n",
        "\n",
        "# creates a dictionary with keys and values\n",
        "dictionary = dict.fromkeys(alphabets, number)\n",
        "\n",
        "print(dictionary)\n",
        "\n",
        "# Output: {'a': 1, 'c': 1, 'b': 1}\n"
      ],
      "metadata": {
        "colab": {
          "base_uri": "https://localhost:8080/"
        },
        "id": "LS_JcjugzuEc",
        "outputId": "699a9e17-dd8a-4cd6-86ad-3946fb19258e"
      },
      "execution_count": null,
      "outputs": [
        {
          "output_type": "stream",
          "name": "stdout",
          "text": [
            "{'a': 1, 'b': 1, 'c': 1}\n"
          ]
        }
      ]
    },
    {
      "cell_type": "code",
      "source": [
        "# set of vowels\n",
        "keys = {'a', 'e', 'i', 'o', 'u' }\n",
        "\n",
        "# assign string to the value\n",
        "value = 'vowel'\n",
        "\n",
        "# creates a dictionary with keys and values\n",
        "vowels = dict.fromkeys(keys, value)\n",
        "\n",
        "print(vowels)"
      ],
      "metadata": {
        "colab": {
          "base_uri": "https://localhost:8080/"
        },
        "id": "vi_66RG705M3",
        "outputId": "ef71d07c-7e94-4bfc-e30e-b7a7a4be68e6"
      },
      "execution_count": null,
      "outputs": [
        {
          "output_type": "stream",
          "name": "stdout",
          "text": [
            "{'i': 'vowel', 'o': 'vowel', 'a': 'vowel', 'u': 'vowel', 'e': 'vowel'}\n"
          ]
        }
      ]
    },
    {
      "cell_type": "markdown",
      "source": [
        "In the below example, we have created a dictionary named numbers with the given list of keys."
      ],
      "metadata": {
        "id": "bNcMDs6f1MgO"
      }
    },
    {
      "cell_type": "code",
      "source": [
        "# list of numbers\n",
        "keys = [1, 2, 4 ]\n",
        "\n",
        "# creates a dictionary with keys only\n",
        "numbers = dict.fromkeys(keys)\n",
        "\n",
        "print(numbers)"
      ],
      "metadata": {
        "colab": {
          "base_uri": "https://localhost:8080/"
        },
        "id": "GO-0Q3d71L4d",
        "outputId": "2fb320bf-2cf8-4d11-a340-a811eaca0a69"
      },
      "execution_count": null,
      "outputs": [
        {
          "output_type": "stream",
          "name": "stdout",
          "text": [
            "{1: None, 2: None, 4: None}\n"
          ]
        }
      ]
    },
    {
      "cell_type": "markdown",
      "source": [
        "# fromkeys() To Create A Dictionary From Mutable Object\n",
        "\n",
        "In the below example, we have used a list as the value for the dictionary. The iterables like list, dictionary, etc are the mutable objects, meaning they can be modified.\n",
        "\n",
        "Here, when we update the list value using append, the keys are assigned with the new updated values. This is because each element is pointing to the same address in the memory."
      ],
      "metadata": {
        "id": "KBtr9QXS1hTW"
      }
    },
    {
      "cell_type": "code",
      "source": [
        "# set of vowels\n",
        "keys = {'a', 'e', 'i', 'o', 'u' }\n",
        "\n",
        "# list of number\n",
        "value = [1]\n",
        "\n",
        "vowels = dict.fromkeys(keys, value)\n",
        "print(vowels)\n",
        "\n",
        "# updates the list value\n",
        "value.append(2)\n",
        "\n",
        "print(vowels)"
      ],
      "metadata": {
        "colab": {
          "base_uri": "https://localhost:8080/"
        },
        "id": "vnBFw46z1gxI",
        "outputId": "d29d1205-f3c9-423d-edba-4b362833a285"
      },
      "execution_count": null,
      "outputs": [
        {
          "output_type": "stream",
          "name": "stdout",
          "text": [
            "{'i': [1], 'o': [1], 'a': [1], 'u': [1], 'e': [1]}\n",
            "{'i': [1, 2], 'o': [1, 2], 'a': [1, 2], 'u': [1, 2], 'e': [1, 2]}\n"
          ]
        }
      ]
    },
    {
      "cell_type": "markdown",
      "source": [
        "# Dictionary comprehension for mutable objects ???\n",
        "We can use dictionary comprehension and prevent updating the dictionary when the mutable object (list, dictionary, etc) is updated. For example,\n",
        "\n",
        "In the below  example, we have used dictionary comprehension to create a dictionary named vowels.\n",
        "\n",
        "Here, the value is not assigned to the keys of the dictionary. But, for each key in keys, a new list of value is created. The newly created list is assigned each key in the dictionary."
      ],
      "metadata": {
        "id": "MKU7GL562LqF"
      }
    },
    {
      "cell_type": "code",
      "source": [
        "# vowels keys\n",
        "keys = {'a', 'e', 'i', 'o', 'u' }\n",
        "value = [1,2]\n",
        "\n",
        "# creates dictionary using dictionary comprehension\n",
        "vowels = { key : list(value) for key in keys }\n",
        "\n",
        "print(vowels)\n",
        "\n",
        "# updates the value list\n",
        "value.append(3)\n",
        "\n",
        "print(vowels)"
      ],
      "metadata": {
        "colab": {
          "base_uri": "https://localhost:8080/"
        },
        "id": "T6Zzf3ZO18y4",
        "outputId": "f2795247-6736-4fb2-c535-abf23a7f8494"
      },
      "execution_count": null,
      "outputs": [
        {
          "output_type": "stream",
          "name": "stdout",
          "text": [
            "{'i': [1, 2], 'o': [1, 2], 'a': [1, 2], 'u': [1, 2], 'e': [1, 2]}\n",
            "{'i': [1, 2], 'o': [1, 2], 'a': [1, 2], 'u': [1, 2], 'e': [1, 2]}\n"
          ]
        }
      ]
    },
    {
      "cell_type": "markdown",
      "source": [
        "# Dictionary get()\n",
        "The syntax of get() is:  dict.get(key[, value]) \n",
        "get() method takes maximum of two parameters:\n",
        "\n",
        "**key** - key to be searched in the dictionary\n",
        "**value (optional)** - Value to be returned if the key is not found. The default value is None.\n",
        "\n",
        "# get() method returns:\n",
        "\n",
        "the value for the specified key if key is in the dictionary.\n",
        "None if the key is not found and value is not specified.\n",
        "value if the key is not found and value is specified."
      ],
      "metadata": {
        "id": "g_TJ3Xd9Gvrg"
      }
    },
    {
      "cell_type": "code",
      "source": [
        "marks = {'Physics':67, 'Maths':87}\n",
        "\n",
        "print(marks.get('Physics'))\n",
        "\n",
        "print(marks.get('CSE'))  # No Key Found\n",
        "\n",
        "print(marks.get('Mech', 'Mech')) # No Key Found but default value returned <-- Note string here\n",
        "\n",
        "\n",
        "print(marks.get('Marks', 46)) # No Key Found but default value returned <-- Note Numer here\n",
        "\n",
        "\n",
        "# Output: 67"
      ],
      "metadata": {
        "colab": {
          "base_uri": "https://localhost:8080/"
        },
        "id": "m9RteE9_GtL1",
        "outputId": "f2616c57-0e05-446f-9976-3178d3b1a9df"
      },
      "execution_count": null,
      "outputs": [
        {
          "output_type": "stream",
          "name": "stdout",
          "text": [
            "67\n",
            "None\n",
            "Mech\n",
            "46\n"
          ]
        }
      ]
    },
    {
      "cell_type": "markdown",
      "source": [
        "# Python get() method Vs dict[key] to Access Elements\n",
        "get() method returns a default value if the key is missing.\n",
        "\n",
        "However, if the key is not found when you use dict[key], KeyError exception is raised."
      ],
      "metadata": {
        "id": "hRzbFEEuIHe5"
      }
    },
    {
      "cell_type": "code",
      "source": [
        "person = {}\n",
        "\n",
        "# Using get() results in None\n",
        "print('Salary: ', person.get('salary'))\n",
        "\n",
        "\n",
        "# Using [] results in KeyError\n",
        "print(person['salary'])"
      ],
      "metadata": {
        "colab": {
          "base_uri": "https://localhost:8080/",
          "height": 217
        },
        "id": "woqDH5GEIGzy",
        "outputId": "2ba3c288-e170-4202-f93e-e34dac440d6c"
      },
      "execution_count": null,
      "outputs": [
        {
          "output_type": "stream",
          "name": "stdout",
          "text": [
            "Salary:  None\n"
          ]
        },
        {
          "output_type": "error",
          "ename": "KeyError",
          "evalue": "ignored",
          "traceback": [
            "\u001b[0;31m---------------------------------------------------------------------------\u001b[0m",
            "\u001b[0;31mKeyError\u001b[0m                                  Traceback (most recent call last)",
            "\u001b[0;32m<ipython-input-6-76bd77a01e2d>\u001b[0m in \u001b[0;36m<module>\u001b[0;34m\u001b[0m\n\u001b[1;32m      6\u001b[0m \u001b[0;34m\u001b[0m\u001b[0m\n\u001b[1;32m      7\u001b[0m \u001b[0;31m# Using [] results in KeyError\u001b[0m\u001b[0;34m\u001b[0m\u001b[0;34m\u001b[0m\u001b[0;34m\u001b[0m\u001b[0m\n\u001b[0;32m----> 8\u001b[0;31m \u001b[0mprint\u001b[0m\u001b[0;34m(\u001b[0m\u001b[0mperson\u001b[0m\u001b[0;34m[\u001b[0m\u001b[0;34m'salary'\u001b[0m\u001b[0;34m]\u001b[0m\u001b[0;34m)\u001b[0m\u001b[0;34m\u001b[0m\u001b[0;34m\u001b[0m\u001b[0m\n\u001b[0m",
            "\u001b[0;31mKeyError\u001b[0m: 'salary'"
          ]
        }
      ]
    },
    {
      "cell_type": "markdown",
      "source": [
        "# Dictionary items()\n",
        "The items() method returns a view object that displays a list of dictionary's (key, value) tuple pairs."
      ],
      "metadata": {
        "id": "MshazjmKI4nk"
      }
    },
    {
      "cell_type": "code",
      "source": [
        "marks = {'Physics':67, 'Maths':87}\n",
        "\n",
        "print(marks.items())\n",
        "\n",
        "\n",
        "# Output: dict_items([('Physics', 67), ('Maths', 87)])\n",
        "\n",
        "\n",
        "# random sales dictionary  # Get all items of a dictionary with items()\n",
        "sales = { 'apple': 2, 'orange': 3, 'grapes': 4 }\n",
        "\n",
        "print(sales.items())"
      ],
      "metadata": {
        "colab": {
          "base_uri": "https://localhost:8080/"
        },
        "id": "jgq4y8t3I3zZ",
        "outputId": "f1df3b16-e579-4d14-b3eb-d5af01bb134d"
      },
      "execution_count": null,
      "outputs": [
        {
          "output_type": "stream",
          "name": "stdout",
          "text": [
            "dict_items([('Physics', 67), ('Maths', 87)])\n",
            "dict_items([('apple', 2), ('orange', 3), ('grapes', 4)])\n"
          ]
        }
      ]
    },
    {
      "cell_type": "markdown",
      "source": [
        "# How items() works when a dictionary is modified?"
      ],
      "metadata": {
        "id": "Y-mSIpHDJbPA"
      }
    },
    {
      "cell_type": "code",
      "source": [
        "# random sales dictionary\n",
        "sales = { 'apple': 2, 'orange': 3, 'grapes': 4 }\n",
        "\n",
        "items = sales.items()\n",
        "\n",
        "print('Original items:', items)\n",
        "\n",
        "# delete an item from dictionary\n",
        "del[sales['apple']]\n",
        "\n",
        "print('Updated items:', items)"
      ],
      "metadata": {
        "colab": {
          "base_uri": "https://localhost:8080/"
        },
        "id": "3oGoyRjNJawt",
        "outputId": "3f6433d8-7734-4822-e6f0-fbdf30a47fb2"
      },
      "execution_count": null,
      "outputs": [
        {
          "output_type": "stream",
          "name": "stdout",
          "text": [
            "Original items: dict_items([('apple', 2), ('orange', 3), ('grapes', 4)])\n",
            "Updated items: dict_items([('orange', 3), ('grapes', 4)])\n"
          ]
        }
      ]
    },
    {
      "cell_type": "markdown",
      "source": [
        "# Dictionary keys()\n",
        "The keys() method extracts the keys of the dictionary and returns the list of keys as a view object.\n",
        "\n",
        "*the syntax of the keys() method is:*\n",
        "\n",
        "dict.keys()\n",
        "Here, dict is a dictionary whose keys are extracted.\n",
        "\n",
        "keys() Parameters\n",
        "The keys() method doesn't take any parameters.\n",
        "\n",
        "keys() Return Value\n",
        "The keys() method returns:\n",
        "\n",
        "a view object that displays the list of all the keys\n",
        "For example, if the method returns dict_keys([1, 2, 3)],\n",
        "\n",
        "dict_keys() is the view object\n",
        "[1, 2, 3] is the list of keys\n",
        "\n"
      ],
      "metadata": {
        "id": "NH-mp9cEJ00G"
      }
    },
    {
      "cell_type": "code",
      "source": [
        "numbers = {1: 'one', 2: 'two', 3: 'three'}\n",
        "\n",
        "# extracts the keys of the dictionary\n",
        "dictionaryKeys = numbers.keys()\n",
        "\n",
        "print(dictionaryKeys)\n",
        "\n",
        "# Output: dict_keys([1, 2, 3])\n",
        "\n",
        "employee = {'name': 'Phill', 'age': 22, 'salary': 3500.0}\n",
        "\n",
        "# extracts the keys of the dictionary\n",
        "dictionaryKeys = employee.keys()\n",
        "\n",
        "print('Employee Keys ', employee.keys())\n",
        "\n",
        "print(dictionaryKeys)"
      ],
      "metadata": {
        "colab": {
          "base_uri": "https://localhost:8080/"
        },
        "id": "h1sfAYdEJ0OH",
        "outputId": "b484354e-ebd3-4e0b-d625-f31f5516de8f"
      },
      "execution_count": null,
      "outputs": [
        {
          "output_type": "stream",
          "name": "stdout",
          "text": [
            "dict_keys([1, 2, 3])\n",
            "Employee Keys  dict_keys(['name', 'age', 'salary'])\n",
            "dict_keys(['name', 'age', 'salary'])\n"
          ]
        }
      ]
    },
    {
      "cell_type": "markdown",
      "source": [
        "# Update in dictionary updates the view object"
      ],
      "metadata": {
        "id": "yVzalgQ5K2Rr"
      }
    },
    {
      "cell_type": "code",
      "source": [
        "employee = {'name': 'Phill', 'age': 22}\n",
        "\n",
        "# extracts the dictionary keys\n",
        "dictionaryKeys = employee.keys()\n",
        "\n",
        "print('Before dictionary update:', dictionaryKeys)\n",
        "\n",
        "# adds an element to the dictionary\n",
        "employee.update({'salary': 3500.0})\n",
        "\n",
        "# prints the updated view object\n",
        "print('After dictionary update:', dictionaryKeys)"
      ],
      "metadata": {
        "colab": {
          "base_uri": "https://localhost:8080/"
        },
        "id": "kv4LVmqWK1vH",
        "outputId": "c9d03b83-d3c4-4234-8eb6-7b0e2fb97ac7"
      },
      "execution_count": null,
      "outputs": [
        {
          "output_type": "stream",
          "name": "stdout",
          "text": [
            "Before dictionary update: dict_keys(['name', 'age'])\n",
            "After dictionary update: dict_keys(['name', 'age', 'salary'])\n"
          ]
        }
      ]
    },
    {
      "cell_type": "markdown",
      "source": [
        "# Dictionary popitem()\n",
        "The Python popitem() method removes and returns the last element (key, value) pair inserted into the dictionary.\n",
        "\n",
        "The syntax of popitem() is:\n",
        "\n",
        "dict.popitem()\n",
        "\n",
        "# Return Value from popitem() method\n",
        "The popitem() method removes and returns the (key, value) pair from the dictionary in the Last In, First Out (LIFO) order.\n",
        "\n",
        "Returns the latest inserted element (key,value) pair from the dictionary.\n",
        "Removes the returned element pair from the dictionary."
      ],
      "metadata": {
        "id": "rIi2xRkyL282"
      }
    },
    {
      "cell_type": "code",
      "source": [
        "person = {'name': 'Phill', 'age': 22, 'salary': 3500.0}\n",
        "\n",
        "# ('salary', 3500.0) is inserted at the last, so it is removed.\n",
        "result = person.popitem()\n",
        "\n",
        "print('Return Value = ', result)\n",
        "print('person = ', person)\n",
        "\n",
        "# inserting a new element pair\n",
        "person['profession'] = 'Plumber'\n",
        "\n",
        "print('person after insert= ', person)\n",
        "\n",
        "# now ('profession', 'Plumber') is the latest element\n",
        "result = person.popitem()\n",
        "\n",
        "print('Return Value = ', result)\n",
        "print('person = ', person)\n"
      ],
      "metadata": {
        "colab": {
          "base_uri": "https://localhost:8080/"
        },
        "id": "BYu12i9gL2jB",
        "outputId": "3b123ddd-8fa8-44a3-b9d6-6247b0f7e5be"
      },
      "execution_count": null,
      "outputs": [
        {
          "output_type": "stream",
          "name": "stdout",
          "text": [
            "Return Value =  ('salary', 3500.0)\n",
            "person =  {'name': 'Phill', 'age': 22}\n",
            "person after insert=  {'name': 'Phill', 'age': 22, 'profession': 'Plumber'}\n",
            "Return Value =  ('profession', 'Plumber')\n",
            "person =  {'name': 'Phill', 'age': 22}\n"
          ]
        }
      ]
    },
    {
      "cell_type": "markdown",
      "source": [
        "# How setdefault() works when key is in the dictionary?"
      ],
      "metadata": {
        "id": "VSbRQuBTM-uA"
      }
    },
    {
      "cell_type": "code",
      "source": [
        "person = {'name': 'Phill', 'age': 22}\n",
        "\n",
        "age = person.setdefault('age')\n",
        "print('person = ',person)\n",
        "age1 = person.setdefault('age',33)\n",
        "print('Age from set default= ',age1)\n",
        "print('Age from set default= ',age)"
      ],
      "metadata": {
        "colab": {
          "base_uri": "https://localhost:8080/"
        },
        "id": "9Zeyy3_BM9o1",
        "outputId": "6e93ffb9-850a-4b6f-a3a4-ee7aedc27e34"
      },
      "execution_count": null,
      "outputs": [
        {
          "output_type": "stream",
          "name": "stdout",
          "text": [
            "person =  {'name': 'Phill', 'age': 22}\n",
            "Age from set default=  22\n",
            "Age from set default=  22\n"
          ]
        }
      ]
    },
    {
      "cell_type": "markdown",
      "source": [
        "# How setdefault() works when key is not in the dictionary?"
      ],
      "metadata": {
        "id": "q_FLh7tONh9R"
      }
    },
    {
      "cell_type": "code",
      "source": [
        "person = {'name': 'Phill'}\n",
        "\n",
        "# key is not in the dictionary\n",
        "salary = person.setdefault('salary')\n",
        "print('person = ',person)\n",
        "print('salary = ',salary)\n",
        "\n",
        "# key is not in the dictionary\n",
        "# default_value is provided\n",
        "age = person.setdefault('age', 22)\n",
        "print('person = ',person)\n",
        "print('age = ',age)"
      ],
      "metadata": {
        "colab": {
          "base_uri": "https://localhost:8080/"
        },
        "id": "IR-ltE5-NhVm",
        "outputId": "a151ec10-8a37-4df5-e990-0fc7dffd4a24"
      },
      "execution_count": null,
      "outputs": [
        {
          "output_type": "stream",
          "name": "stdout",
          "text": [
            "person =  {'name': 'Phill', 'salary': None}\n",
            "salary =  None\n",
            "person =  {'name': 'Phill', 'salary': None, 'age': 22}\n",
            "age =  22\n"
          ]
        }
      ]
    },
    {
      "cell_type": "markdown",
      "source": [
        "# Dictionary pop()\n",
        "The pop() method removes and returns an element from a dictionary having the given key.\n",
        "\n",
        "The syntax of pop() method is\n",
        "\n",
        "dictionary.pop(key[, default])\n",
        "pop() Parameters\n",
        "pop() method takes two parameters:\n",
        "\n",
        "key - key which is to be searched for removal\n",
        "default - value which is to be returned when the key is not in the dictionary\n",
        "Return value from pop()\n",
        "\n",
        "The pop() method returns:\n",
        "\n",
        "If key is found - removed/popped element from the dictionary\n",
        "If key is not found - value specified as the second argument (default)\n",
        "If key is not found and default argument is not specified - KeyError exception is raised"
      ],
      "metadata": {
        "id": "b0z-EGqBOXQP"
      }
    },
    {
      "cell_type": "code",
      "source": [
        "# random sales dictionary\n",
        "sales = { 'apple': 2, 'orange': 3, 'grapes': 4 }\n",
        "\n",
        "element = sales.pop('apple')\n",
        "\n",
        "print('The popped element is:', element)\n",
        "print('The dictionary is:', sales)"
      ],
      "metadata": {
        "colab": {
          "base_uri": "https://localhost:8080/"
        },
        "id": "TBqHNpduOWvL",
        "outputId": "a23c017e-f6be-46ec-8252-47a588f14278"
      },
      "execution_count": null,
      "outputs": [
        {
          "output_type": "stream",
          "name": "stdout",
          "text": [
            "The popped element is: 2\n",
            "The dictionary is: {'orange': 3, 'grapes': 4}\n"
          ]
        }
      ]
    },
    {
      "cell_type": "markdown",
      "source": [
        "# Pop an element not present from the dictionary"
      ],
      "metadata": {
        "id": "scICJUjjO5s_"
      }
    },
    {
      "cell_type": "code",
      "source": [
        "# random sales dictionary\n",
        "sales = { 'apple': 2, 'orange': 3, 'grapes': 4 }\n",
        "\n",
        "element = sales.pop('guava')\n"
      ],
      "metadata": {
        "colab": {
          "base_uri": "https://localhost:8080/",
          "height": 200
        },
        "id": "9lM9Et62O4up",
        "outputId": "40b1d120-3376-4ccf-d73c-28c805f7f12f"
      },
      "execution_count": null,
      "outputs": [
        {
          "output_type": "error",
          "ename": "KeyError",
          "evalue": "ignored",
          "traceback": [
            "\u001b[0;31m---------------------------------------------------------------------------\u001b[0m",
            "\u001b[0;31mKeyError\u001b[0m                                  Traceback (most recent call last)",
            "\u001b[0;32m<ipython-input-22-f34f1913eb7e>\u001b[0m in \u001b[0;36m<module>\u001b[0;34m\u001b[0m\n\u001b[1;32m      2\u001b[0m \u001b[0msales\u001b[0m \u001b[0;34m=\u001b[0m \u001b[0;34m{\u001b[0m \u001b[0;34m'apple'\u001b[0m\u001b[0;34m:\u001b[0m \u001b[0;36m2\u001b[0m\u001b[0;34m,\u001b[0m \u001b[0;34m'orange'\u001b[0m\u001b[0;34m:\u001b[0m \u001b[0;36m3\u001b[0m\u001b[0;34m,\u001b[0m \u001b[0;34m'grapes'\u001b[0m\u001b[0;34m:\u001b[0m \u001b[0;36m4\u001b[0m \u001b[0;34m}\u001b[0m\u001b[0;34m\u001b[0m\u001b[0;34m\u001b[0m\u001b[0m\n\u001b[1;32m      3\u001b[0m \u001b[0;34m\u001b[0m\u001b[0m\n\u001b[0;32m----> 4\u001b[0;31m \u001b[0melement\u001b[0m \u001b[0;34m=\u001b[0m \u001b[0msales\u001b[0m\u001b[0;34m.\u001b[0m\u001b[0mpop\u001b[0m\u001b[0;34m(\u001b[0m\u001b[0;34m'guava'\u001b[0m\u001b[0;34m)\u001b[0m\u001b[0;34m\u001b[0m\u001b[0;34m\u001b[0m\u001b[0m\n\u001b[0m",
            "\u001b[0;31mKeyError\u001b[0m: 'guava'"
          ]
        }
      ]
    },
    {
      "cell_type": "markdown",
      "source": [
        "# Pop an element not present from the dictionary, provided a default value"
      ],
      "metadata": {
        "id": "6mUJiYTUPBXm"
      }
    },
    {
      "cell_type": "code",
      "source": [
        "# random sales dictionary\n",
        "sales = { 'apple': 2, 'orange': 3, 'grapes': 4 }\n",
        "\n",
        "element = sales.pop('guava', 'banana')\n",
        "\n",
        "print('The popped element is:', element)\n",
        "print('The dictionary is:', sales)"
      ],
      "metadata": {
        "colab": {
          "base_uri": "https://localhost:8080/"
        },
        "id": "2TJ-x1Q0PAyd",
        "outputId": "007ec376-ce0c-4e8d-8631-8fa51d0d69dd"
      },
      "execution_count": null,
      "outputs": [
        {
          "output_type": "stream",
          "name": "stdout",
          "text": [
            "The popped element is: banana\n",
            "The dictionary is: {'apple': 2, 'orange': 3, 'grapes': 4}\n"
          ]
        }
      ]
    },
    {
      "cell_type": "markdown",
      "source": [
        "# Dictionary values()\n",
        "The values() method returns a view object that displays a list of all the values in the dictionary.\n",
        "The syntax of values() is:\n",
        "\n",
        "dictionary.values()\n",
        "values() Parameters\n",
        "values() method doesn't take any parameters.\n",
        "\n",
        "Return value from values()\n",
        "values() method returns a ***view object*** that displays a list of all values in a given dictionary."
      ],
      "metadata": {
        "id": "zsHhYB3lPneD"
      }
    },
    {
      "cell_type": "code",
      "source": [
        "marks = {'Physics':67, 'Maths':87}\n",
        "value= marks.values()\n",
        "print(value)\n",
        "\n",
        "# Output: dict_values([67, 87])\n",
        "\n"
      ],
      "metadata": {
        "colab": {
          "base_uri": "https://localhost:8080/",
          "height": 252
        },
        "id": "5SesLmgSPmyP",
        "outputId": "484d43de-488d-41e0-db7a-069cec41f62c"
      },
      "execution_count": null,
      "outputs": [
        {
          "output_type": "stream",
          "name": "stdout",
          "text": [
            "dict_values([67, 87])\n"
          ]
        },
        {
          "output_type": "error",
          "ename": "TypeError",
          "evalue": "ignored",
          "traceback": [
            "\u001b[0;31m---------------------------------------------------------------------------\u001b[0m",
            "\u001b[0;31mTypeError\u001b[0m                                 Traceback (most recent call last)",
            "\u001b[0;32m<ipython-input-26-a828aa3c63fd>\u001b[0m in \u001b[0;36m<module>\u001b[0;34m\u001b[0m\n\u001b[1;32m      2\u001b[0m \u001b[0mvalue\u001b[0m\u001b[0;34m=\u001b[0m \u001b[0mmarks\u001b[0m\u001b[0;34m.\u001b[0m\u001b[0mvalues\u001b[0m\u001b[0;34m(\u001b[0m\u001b[0;34m)\u001b[0m\u001b[0;34m\u001b[0m\u001b[0;34m\u001b[0m\u001b[0m\n\u001b[1;32m      3\u001b[0m \u001b[0mprint\u001b[0m\u001b[0;34m(\u001b[0m\u001b[0mvalue\u001b[0m\u001b[0;34m)\u001b[0m\u001b[0;34m\u001b[0m\u001b[0;34m\u001b[0m\u001b[0m\n\u001b[0;32m----> 4\u001b[0;31m \u001b[0mprint\u001b[0m\u001b[0;34m(\u001b[0m\u001b[0mvalue\u001b[0m\u001b[0;34m[\u001b[0m\u001b[0;36m1\u001b[0m\u001b[0;34m]\u001b[0m\u001b[0;34m)\u001b[0m\u001b[0;34m\u001b[0m\u001b[0;34m\u001b[0m\u001b[0m\n\u001b[0m\u001b[1;32m      5\u001b[0m \u001b[0;34m\u001b[0m\u001b[0m\n\u001b[1;32m      6\u001b[0m \u001b[0;31m# Output: dict_values([67, 87])\u001b[0m\u001b[0;34m\u001b[0m\u001b[0;34m\u001b[0m\u001b[0;34m\u001b[0m\u001b[0m\n",
            "\u001b[0;31mTypeError\u001b[0m: 'dict_values' object is not subscriptable"
          ]
        }
      ]
    },
    {
      "cell_type": "markdown",
      "source": [
        "# How values() works when a dictionary is modified?"
      ],
      "metadata": {
        "id": "9wNXO0YSQcZG"
      }
    },
    {
      "cell_type": "code",
      "source": [
        "# random sales dictionary\n",
        "sales = { 'apple': 2, 'orange': 3, 'grapes': 4 }\n",
        "\n",
        "values = sales.values()\n",
        "\n",
        "print('Original items:', values)\n",
        "\n",
        "# delete an item from dictionary\n",
        "del[sales['apple']]\n",
        "\n",
        "print('Updated items:', values)"
      ],
      "metadata": {
        "colab": {
          "base_uri": "https://localhost:8080/"
        },
        "id": "-ep5dDDXQbqG",
        "outputId": "d75f4431-9da0-403c-e289-887d74234dde"
      },
      "execution_count": null,
      "outputs": [
        {
          "output_type": "stream",
          "name": "stdout",
          "text": [
            "Original items: dict_values([2, 3, 4])\n",
            "Updated items: dict_values([3, 4])\n"
          ]
        }
      ]
    },
    {
      "cell_type": "markdown",
      "source": [
        "# Dictionary update()\n",
        "The update() method updates the dictionary with the elements from another dictionary object or from an iterable of key/value pairs.\n",
        "\n",
        "\n",
        "The syntax of update() is:\n",
        "\n",
        "dict.update([other])\n",
        "update() Parameters\n",
        "The update() method takes either a dictionary or an iterable object of key/value pairs (generally tuples).\n",
        "\n",
        "If update() is called without passing parameters, the dictionary remains unchanged.\n",
        "\n",
        "Return Value from update()\n",
        "update() method updates the dictionary with elements from a dictionary object or an iterable object of key/value pairs.\n",
        "\n",
        "It doesn't return any value (returns None)."
      ],
      "metadata": {
        "id": "OQj7FaKDRMwJ"
      }
    },
    {
      "cell_type": "code",
      "source": [
        "marks = {'Physics':67, 'Maths':87}\n",
        "internal_marks = {'Practical':48}\n",
        "\n",
        "marks.update(internal_marks)\n",
        "\n",
        "\n",
        "print(marks)\n",
        "\n",
        "# Output: {'Physics': 67, 'Maths': 87, 'Practical': 48}"
      ],
      "metadata": {
        "colab": {
          "base_uri": "https://localhost:8080/"
        },
        "id": "badKk-m1RMH3",
        "outputId": "8fdb31fa-9723-4857-9273-0ea9472c460e"
      },
      "execution_count": null,
      "outputs": [
        {
          "output_type": "stream",
          "name": "stdout",
          "text": [
            "{'Physics': 67, 'Maths': 87, 'Practical': 48}\n"
          ]
        }
      ]
    },
    {
      "cell_type": "markdown",
      "source": [
        "# Working of update()\n",
        "\n",
        "Note: The update() method adds element(s) to the dictionary if the key is not in the dictionary. If the key is in the dictionary, it updates the key with the new value."
      ],
      "metadata": {
        "id": "yTaN3-aFRevv"
      }
    },
    {
      "cell_type": "code",
      "source": [
        "d = {1: \"one\", 2: \"three\"}\n",
        "d1 = {2: \"two\"}\n",
        "\n",
        "# updates the value of key 2\n",
        "d.update(d1)\n",
        "\n",
        "print(d)\n",
        "\n",
        "d1 = {3: \"three\"}\n",
        "\n",
        "# adds element with key 3\n",
        "d.update(d1)\n",
        "\n",
        "print(d)"
      ],
      "metadata": {
        "colab": {
          "base_uri": "https://localhost:8080/"
        },
        "id": "wz1EFHtcReSN",
        "outputId": "a6de182e-0646-4a41-d8ce-9fdc2786e5a2"
      },
      "execution_count": null,
      "outputs": [
        {
          "output_type": "stream",
          "name": "stdout",
          "text": [
            "{1: 'one', 2: 'two'}\n",
            "{1: 'one', 2: 'two', 3: 'three'}\n"
          ]
        }
      ]
    },
    {
      "cell_type": "markdown",
      "source": [
        "# update() When Tuple is Passed\n",
        "Here, we have passed a list of tuples [('y', 3), ('z', 0)] to the update() function. In this case, the first element of tuple is used as the key and the second element is used as the value."
      ],
      "metadata": {
        "id": "tswi8FzIR81v"
      }
    },
    {
      "cell_type": "code",
      "source": [
        "dictionary = {'x': 2}\n",
        "\n",
        "dictionary.update([('y', 3), ('z', 0)])\n",
        "\n",
        "print(dictionary)"
      ],
      "metadata": {
        "colab": {
          "base_uri": "https://localhost:8080/"
        },
        "id": "Ih1wfTwVR8DN",
        "outputId": "fd1b44c8-fd0d-447e-a1cd-c1e8a2b8441f"
      },
      "execution_count": null,
      "outputs": [
        {
          "output_type": "stream",
          "name": "stdout",
          "text": [
            "{'x': 2, 'y': 3, 'z': 0}\n"
          ]
        }
      ]
    }
  ]
}